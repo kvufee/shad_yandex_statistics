{
 "cells": [
  {
   "cell_type": "code",
   "execution_count": 5,
   "id": "c9cd2b39-6f6d-4ce1-9f99-f9e0038a2c2c",
   "metadata": {},
   "outputs": [],
   "source": [
    "import numpy as np\n",
    "import scipy.stats as ss\n",
    "import random"
   ]
  },
  {
   "cell_type": "markdown",
   "id": "a60e522b-1bea-4f24-8253-37c7df6730be",
   "metadata": {},
   "source": [
    "## Task 1"
   ]
  },
  {
   "cell_type": "code",
   "execution_count": 6,
   "id": "74b7816f-7359-4579-b42f-f05ffffbc8fe",
   "metadata": {},
   "outputs": [],
   "source": [
    "def exact(q: int, n: int) -> (np.float64, np.float64):\n",
    "    mu = 1 / q\n",
    "    \n",
    "    # после упрощения выражения L мы получим: L: (1/n) * sum(X_i) > mu + 2 * sigma / sqrt(n) => sum(X_i) > n * mu + 2 * sqrt(n) * sigma\n",
    "    L_calculation = n * mu + (2 * np.sqrt(n))/q\n",
    "    # после упрощения выражения R мы получим: L: (1/n) * sum(X_i) < mu - 2 * sigma / sqrt(n) => sum(X_i) < n * mu - 2 * sqrt(n) * sigma\n",
    "    R_calculation = n * mu - (2 * np.sqrt(n))/q\n",
    "\n",
    "    L_proba = 1 - ss.gamma.cdf(L_calculation, a=n, scale=1/q)\n",
    "    R_proba = ss.gamma.cdf(R_calculation, a=n, scale=1/q)\n",
    "    \n",
    "    return L_proba, R_proba"
   ]
  },
  {
   "cell_type": "code",
   "execution_count": 7,
   "id": "00f0eb78-322c-4f24-9ee6-fd3fa4a95208",
   "metadata": {},
   "outputs": [
    {
     "data": {
      "text/plain": [
       "(0.03685411175968156, 0.004634706298986589)"
      ]
     },
     "execution_count": 7,
     "metadata": {},
     "output_type": "execute_result"
    }
   ],
   "source": [
    "exact(2, 10)"
   ]
  },
  {
   "cell_type": "markdown",
   "id": "46f3438c-ffa1-4b89-8e5b-17b217692175",
   "metadata": {},
   "source": [
    "## Task 2"
   ]
  },
  {
   "cell_type": "code",
   "execution_count": 8,
   "id": "f375613f-ad09-4893-89d2-3a721448aac9",
   "metadata": {},
   "outputs": [],
   "source": [
    "def experiment():\n",
    "    alpha = 1/20\n",
    "    current_time = 60 * 9\n",
    "    end_time = 60 * 16\n",
    "    \n",
    "    barbers = [0, 0, 0]\n",
    "    clients = []\n",
    "    \n",
    "    current_time += random.expovariate(1/20)\n",
    "    \n",
    "    while current_time <= end_time:\n",
    "        job_completion_time = random.uniform(15, 45)\n",
    "        clients.append((current_time, job_completion_time))\n",
    "        current_time += random.expovariate(1/20)\n",
    "    \n",
    "    for arrival_time, job_completion_time in clients:\n",
    "        barber_index = barbers.index(min(barbers))\n",
    "        barbers[barber_index] = max(barbers[barber_index], arrival_time) + job_completion_time\n",
    "       \n",
    "    return max(barbers)"
   ]
  },
  {
   "cell_type": "code",
   "execution_count": 9,
   "id": "727fe5fe-fff8-4405-b90b-237e74c626d3",
   "metadata": {},
   "outputs": [],
   "source": [
    "def closing_time(end_time) -> int:\n",
    "    return max(0, end_time - 60 * 16)"
   ]
  },
  {
   "cell_type": "code",
   "execution_count": 10,
   "id": "89707280-8a82-49ee-b6e1-4c8e4cb12a1e",
   "metadata": {},
   "outputs": [],
   "source": [
    "def monte_carlo(experiment, closing_time, number_of_trials: int) -> float:\n",
    "    cumulative_time = 0\n",
    "    for _ in range(number_of_trials):\n",
    "        cumulative_time += closing_time(experiment())\n",
    "       \n",
    "    return cumulative_time / number_of_trials"
   ]
  },
  {
   "cell_type": "code",
   "execution_count": 11,
   "id": "0a275d96-3760-49f3-bc80-3b7c28b4b00b",
   "metadata": {},
   "outputs": [
    {
     "data": {
      "text/plain": [
       "18.254706238221896"
      ]
     },
     "execution_count": 11,
     "metadata": {},
     "output_type": "execute_result"
    }
   ],
   "source": [
    "monte_carlo(experiment, closing_time, 10000)"
   ]
  },
  {
   "cell_type": "code",
   "execution_count": null,
   "id": "dba3c5ff-f004-46aa-b3bb-44a095f8b985",
   "metadata": {},
   "outputs": [],
   "source": []
  }
 ],
 "metadata": {
  "kernelspec": {
   "display_name": "Python 3 (ipykernel)",
   "language": "python",
   "name": "python3"
  },
  "language_info": {
   "codemirror_mode": {
    "name": "ipython",
    "version": 3
   },
   "file_extension": ".py",
   "mimetype": "text/x-python",
   "name": "python",
   "nbconvert_exporter": "python",
   "pygments_lexer": "ipython3",
   "version": "3.12.4"
  }
 },
 "nbformat": 4,
 "nbformat_minor": 5
}
