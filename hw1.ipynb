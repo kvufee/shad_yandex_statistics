{
 "cells": [
  {
   "cell_type": "code",
   "execution_count": 1,
   "id": "c9cd2b39-6f6d-4ce1-9f99-f9e0038a2c2c",
   "metadata": {},
   "outputs": [],
   "source": [
    "import numpy as np\n",
    "import scipy.stats as ss\n",
    "import random\n",
    "import math"
   ]
  },
  {
   "cell_type": "markdown",
   "id": "a60e522b-1bea-4f24-8253-37c7df6730be",
   "metadata": {},
   "source": [
    "## Task 1"
   ]
  },
  {
   "cell_type": "code",
   "execution_count": 2,
   "id": "74b7816f-7359-4579-b42f-f05ffffbc8fe",
   "metadata": {},
   "outputs": [],
   "source": [
    "def exact(q: int, n: int) -> (np.float64, np.float64):\n",
    "    mu = 1 / q\n",
    "    \n",
    "    # после упрощения выражения L мы получим: L: (1/n) * sum(X_i) > mu + 2 * sigma / sqrt(n) => sum(X_i) > n * mu + 2 * sqrt(n) * sigma\n",
    "    L_calculation = n * mu + (2 * np.sqrt(n))/q\n",
    "    # после упрощения выражения R мы получим: L: (1/n) * sum(X_i) < mu - 2 * sigma / sqrt(n) => sum(X_i) < n * mu - 2 * sqrt(n) * sigma\n",
    "    R_calculation = n * mu - (2 * np.sqrt(n))/q\n",
    "\n",
    "    L_proba = 1 - ss.gamma.cdf(L_calculation, a=n, scale=1/q)\n",
    "    R_proba = ss.gamma.cdf(R_calculation, a=n, scale=1/q)\n",
    "    \n",
    "    return L_proba, R_proba"
   ]
  },
  {
   "cell_type": "code",
   "execution_count": 3,
   "id": "00f0eb78-322c-4f24-9ee6-fd3fa4a95208",
   "metadata": {},
   "outputs": [
    {
     "data": {
      "text/plain": [
       "(0.03685411175968156, 0.004634706298986589)"
      ]
     },
     "execution_count": 3,
     "metadata": {},
     "output_type": "execute_result"
    }
   ],
   "source": [
    "exact(2, 10)"
   ]
  },
  {
   "cell_type": "markdown",
   "id": "46f3438c-ffa1-4b89-8e5b-17b217692175",
   "metadata": {},
   "source": [
    "## Task 2"
   ]
  },
  {
   "cell_type": "code",
   "execution_count": 4,
   "id": "f375613f-ad09-4893-89d2-3a721448aac9",
   "metadata": {},
   "outputs": [],
   "source": [
    "def experiment():\n",
    "    alpha = 1/20\n",
    "    current_time = 60 * 9\n",
    "    end_time = 60 * 16\n",
    "    \n",
    "    barbers = [0, 0, 0]\n",
    "    clients = []\n",
    "    \n",
    "    current_time += random.expovariate(1/20)\n",
    "    \n",
    "    while current_time <= end_time:\n",
    "        job_completion_time = random.uniform(15, 45)\n",
    "        clients.append((current_time, job_completion_time))\n",
    "        current_time += random.expovariate(1/20)\n",
    "    \n",
    "    for arrival_time, job_completion_time in clients:\n",
    "        barber_index = barbers.index(min(barbers))\n",
    "        barbers[barber_index] = max(barbers[barber_index], arrival_time) + job_completion_time\n",
    "       \n",
    "    return max(barbers)"
   ]
  },
  {
   "cell_type": "code",
   "execution_count": 5,
   "id": "727fe5fe-fff8-4405-b90b-237e74c626d3",
   "metadata": {},
   "outputs": [],
   "source": [
    "def closing_time(end_time) -> int:\n",
    "    return max(0, end_time - 60 * 16)"
   ]
  },
  {
   "cell_type": "code",
   "execution_count": 6,
   "id": "89707280-8a82-49ee-b6e1-4c8e4cb12a1e",
   "metadata": {},
   "outputs": [],
   "source": [
    "def monte_carlo(experiment, closing_time, number_of_trials: int) -> float:\n",
    "    cumulative_time = 0\n",
    "    for _ in range(number_of_trials):\n",
    "        cumulative_time += closing_time(experiment())\n",
    "       \n",
    "    return cumulative_time / number_of_trials"
   ]
  },
  {
   "cell_type": "code",
   "execution_count": 7,
   "id": "0a275d96-3760-49f3-bc80-3b7c28b4b00b",
   "metadata": {},
   "outputs": [
    {
     "data": {
      "text/plain": [
       "18.35660391399439"
      ]
     },
     "execution_count": 7,
     "metadata": {},
     "output_type": "execute_result"
    }
   ],
   "source": [
    "monte_carlo(experiment, closing_time, 10000)"
   ]
  },
  {
   "cell_type": "markdown",
   "id": "0c90bc3d-e36f-4fae-b3d0-b66f829c40d6",
   "metadata": {},
   "source": [
    "## Task 3"
   ]
  },
  {
   "cell_type": "code",
   "execution_count": 24,
   "id": "70c31739-ee81-4699-a7a6-59f8ac69bde2",
   "metadata": {},
   "outputs": [
    {
     "name": "stdout",
     "output_type": "stream",
     "text": [
      "7.6926\n"
     ]
    }
   ],
   "source": [
    "def mean(a: int, b: int, c: int, d: int, number_of_trials: int) -> float:\n",
    "    total_activities = 0\n",
    "    \n",
    "    for _ in range(number_of_trials):\n",
    "        p_u = random.betavariate(a, b)\n",
    "        q_u = random.gammavariate(c, 1/d)\n",
    "        \n",
    "        t = np.random.exponential(1/q_u)\n",
    "        prob_alive = (1 - p_u) * np.exp(-q_u * t) / ((1 - p_u) * np.exp(-q_u * t) + p_u)\n",
    "        \n",
    "        if np.random.rand() < prob_alive:\n",
    "            activities = np.random.poisson(q_u * 10)\n",
    "            total_activities += activities\n",
    "    \n",
    "    return total_activities / number_of_trials\n",
    "\n",
    "print(mean(2, 20, 2, 2, 10000))"
   ]
  },
  {
   "cell_type": "code",
   "execution_count": 25,
   "id": "9abe531c-602e-4957-ab4f-2e071b8f9e26",
   "metadata": {},
   "outputs": [
    {
     "data": {
      "text/plain": [
       "(0.15777787188749723, 9.428527773809599, 0.7569568886545428)"
      ]
     },
     "execution_count": 25,
     "metadata": {},
     "output_type": "execute_result"
    }
   ],
   "source": [
    "random.betavariate(2, 20), random.gammavariate(2, 2), random.random()"
   ]
  },
  {
   "cell_type": "markdown",
   "id": "38434e5e-3bcc-413a-9a7f-bec82b5ce555",
   "metadata": {},
   "source": [
    "## Task 4"
   ]
  },
  {
   "cell_type": "code",
   "execution_count": 23,
   "id": "bef0fb6d-47be-40c0-9a8c-41d4745e188e",
   "metadata": {},
   "outputs": [],
   "source": [
    "# анлак"
   ]
  },
  {
   "cell_type": "markdown",
   "id": "eb68a140-c47c-447e-a380-d1d8a3409132",
   "metadata": {},
   "source": [
    "## Task 5"
   ]
  },
  {
   "cell_type": "code",
   "execution_count": 22,
   "id": "aea30803-2ce2-4826-bfdd-7f9d00862ca7",
   "metadata": {},
   "outputs": [],
   "source": [
    "def estimate_rain_probability(generate, n=10000):\n",
    "    data = generate(n)\n",
    "    \n",
    "    P_walk = np.mean(data == 0)\n",
    "    P_shop = np.mean(data == 1)\n",
    "    P_clean = np.mean(data == 2)\n",
    "    \n",
    "    P_rain = (P_walk - 0.6) / (0.1 - 0.6)\n",
    "    \n",
    "    return round(P_rain, 5)\n",
    "\n",
    "# probability = estimate_rain_probability(generate)\n",
    "# print(probability)"
   ]
  },
  {
   "cell_type": "code",
   "execution_count": null,
   "id": "3ad8dfcd-4026-4f76-91ba-04162f7a2b30",
   "metadata": {},
   "outputs": [],
   "source": []
  }
 ],
 "metadata": {
  "kernelspec": {
   "display_name": "Python 3 (ipykernel)",
   "language": "python",
   "name": "python3"
  },
  "language_info": {
   "codemirror_mode": {
    "name": "ipython",
    "version": 3
   },
   "file_extension": ".py",
   "mimetype": "text/x-python",
   "name": "python",
   "nbconvert_exporter": "python",
   "pygments_lexer": "ipython3",
   "version": "3.12.4"
  }
 },
 "nbformat": 4,
 "nbformat_minor": 5
}
