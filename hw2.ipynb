{
 "cells": [
  {
   "cell_type": "code",
   "execution_count": 6,
   "id": "af69b095-f41c-4e5b-9121-743b2830127f",
   "metadata": {},
   "outputs": [],
   "source": [
    "import numpy as np\n",
    "import scipy.stats as ss"
   ]
  },
  {
   "cell_type": "markdown",
   "id": "1f9923f8-c105-4174-bb61-71626569e5d2",
   "metadata": {},
   "source": [
    "### Task 1"
   ]
  },
  {
   "cell_type": "code",
   "execution_count": 1,
   "id": "d162af2f-5ceb-48c1-accb-86234d393d26",
   "metadata": {},
   "outputs": [],
   "source": [
    "# пока что анлак"
   ]
  },
  {
   "cell_type": "markdown",
   "id": "1a49974f-502b-477d-bf4b-a1e171b08294",
   "metadata": {},
   "source": [
    "### Task 2"
   ]
  },
  {
   "cell_type": "code",
   "execution_count": 3,
   "id": "502384df-8d1f-4608-b06a-beee92c3e4c0",
   "metadata": {},
   "outputs": [],
   "source": [
    "def weighted_corr(sample: np.array, weights: np.array) -> float:\n",
    "    x, y = sample[:, 0], sample[:, 1]\n",
    "    weights_normalized = weights / np.sum(weights)\n",
    "    \n",
    "    x_mean = np.sum(weights_normalized * x)\n",
    "    y_mean = np.sum(weights_normalized * y)\n",
    "    x_var = np.sum(weights_normalized * (x - x_mean) ** 2)\n",
    "    y_var = np.sum(weights_normalized * (y - y_mean) ** 2)\n",
    "    \n",
    "    weighted_covar_xy = np.sum(weights_normalized * (x - x_mean) * (y - y_mean))\n",
    "    corr = weighted_covar_xy / np.sqrt(x_var * y_var)\n",
    "    \n",
    "    return corr"
   ]
  },
  {
   "cell_type": "markdown",
   "id": "02a27b65-a820-47cd-af53-2aa957f26039",
   "metadata": {},
   "source": [
    "### Task 3"
   ]
  },
  {
   "cell_type": "code",
   "execution_count": 10,
   "id": "055bfdc1-fefc-454d-9bde-2452cc107ddd",
   "metadata": {},
   "outputs": [
    {
     "name": "stdout",
     "output_type": "stream",
     "text": [
      "23.5 28.9\n"
     ]
    }
   ],
   "source": [
    "data = np.array([28, 26, 33, 24, 34, -44, 27, 16, 40, -2, 29,\n",
    "                 22, 24, 21, 25, 30, 23, 29, 31, 19, 24, 20,\n",
    "                 36, 32, 36, 28, 25, 21, 28, 29, 37, 25, 28,\n",
    "                 26, 30, 32, 36, 26, 30, 22, 36, 23, 27, 27,\n",
    "                 28, 27, 31, 27, 26, 33, 26, 32, 32, 24, 39,\n",
    "                 28, 24, 25, 32, 25, 29, 27, 28, 29, 16, 23])\n",
    "\n",
    "n = len(data)\n",
    "x_mean = np.mean(data)\n",
    "s2 = np.var(data, ddof=1)\n",
    "samples_size = 10000\n",
    "sigma2_samples = (n-1) * s2 / ss.chi2(df=n-1).rvs(samples_size)\n",
    "mu_samples = np.random.normal(loc=x_mean, scale=np.sqrt(sigma2_samples / n))\n",
    "\n",
    "mu_25, mu_97 = np.percentile(mu_samples, [2.5, 97.5])\n",
    "\n",
    "print(round(mu_lower, 1), round(mu_upper, 1))"
   ]
  },
  {
   "cell_type": "markdown",
   "id": "23bc3584-7524-49e1-8ba2-42237ba2681c",
   "metadata": {},
   "source": [
    "### Task 4"
   ]
  },
  {
   "cell_type": "code",
   "execution_count": 15,
   "id": "f82dc0ad-0238-4f85-8c1a-8d1405b76624",
   "metadata": {},
   "outputs": [
    {
     "name": "stdout",
     "output_type": "stream",
     "text": [
      "-11.78 10.0\n"
     ]
    }
   ],
   "source": [
    "data = np.array([28, 26, 33, 24, 34, -44, 27, 16, 40, -2, 29,\n",
    "                 22, 24, 21, 25, 30, 23, 29, 31, 19, 24, 20,\n",
    "                 36, 32, 36, 28, 25, 21, 28, 29, 37, 25, 28,\n",
    "                 26, 30, 32, 36, 26, 30, 22, 36, 23, 27, 27,\n",
    "                 28, 27, 31, 27, 26, 33, 26, 32, 32, 24, 39,\n",
    "                 28, 24, 25, 32, 25, 29, 27, 28, 29, 16, 23])\n",
    "\n",
    "n = len(data)\n",
    "x_mean = np.mean(data)\n",
    "s2 = np.var(data, ddof=1)\n",
    "samples_size = 10000\n",
    "min_arr = []\n",
    "\n",
    "for _ in range(samples_size):\n",
    "    sigma2 = (n-1) * s2 / ss.chi2(df=n-1).rvs()\n",
    "    mu = np.random.normal(loc=x_mean, scale=np.sqrt(sigma2 / n))\n",
    "\n",
    "    generated_sample = np.random.normal(loc=mu, scale=np.sqrt(sigma2), size=n)\n",
    "    min_arr.append(np.min(generated_sample))\n",
    "\n",
    "min_25, min_97 = np.percentile(min_arr, [2.5, 97.5])\n",
    "\n",
    "print(round(min_25, 2), round(min_97, 2))"
   ]
  },
  {
   "cell_type": "code",
   "execution_count": null,
   "id": "e0b5a61a-f0cc-4619-b085-17b95142b15d",
   "metadata": {},
   "outputs": [],
   "source": []
  }
 ],
 "metadata": {
  "kernelspec": {
   "display_name": "Python 3 (ipykernel)",
   "language": "python",
   "name": "python3"
  },
  "language_info": {
   "codemirror_mode": {
    "name": "ipython",
    "version": 3
   },
   "file_extension": ".py",
   "mimetype": "text/x-python",
   "name": "python",
   "nbconvert_exporter": "python",
   "pygments_lexer": "ipython3",
   "version": "3.12.4"
  }
 },
 "nbformat": 4,
 "nbformat_minor": 5
}
