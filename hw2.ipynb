{
 "cells": [
  {
   "cell_type": "code",
   "execution_count": 4,
   "id": "af69b095-f41c-4e5b-9121-743b2830127f",
   "metadata": {},
   "outputs": [],
   "source": [
    "import numpy as np"
   ]
  },
  {
   "cell_type": "markdown",
   "id": "1f9923f8-c105-4174-bb61-71626569e5d2",
   "metadata": {},
   "source": [
    "### Task 1"
   ]
  },
  {
   "cell_type": "code",
   "execution_count": 1,
   "id": "d162af2f-5ceb-48c1-accb-86234d393d26",
   "metadata": {},
   "outputs": [],
   "source": [
    "# пока что анлак"
   ]
  },
  {
   "cell_type": "markdown",
   "id": "1a49974f-502b-477d-bf4b-a1e171b08294",
   "metadata": {},
   "source": [
    "### Task 2"
   ]
  },
  {
   "cell_type": "code",
   "execution_count": 3,
   "id": "502384df-8d1f-4608-b06a-beee92c3e4c0",
   "metadata": {},
   "outputs": [],
   "source": [
    "def weighted_corr(sample: np.array, weights: np.array) -> float:\n",
    "    x, y = sample[:, 0], sample[:, 1]\n",
    "    weights_normalized = weights / np.sum(weights)\n",
    "    \n",
    "    x_mean = np.sum(weights_normalized * x)\n",
    "    y_mean = np.sum(weights_normalized * y)\n",
    "    x_var = np.sum(weights_normalized * (x - x_mean) ** 2)\n",
    "    y_var = np.sum(weights_normalized * (y - y_mean) ** 2)\n",
    "    \n",
    "    weighted_covar_xy = np.sum(weights_normalized * (x - x_mean) * (y - y_mean))\n",
    "    corr = weighted_covar_xy / np.sqrt(x_var * y_var)\n",
    "    \n",
    "    return corr"
   ]
  },
  {
   "cell_type": "code",
   "execution_count": null,
   "id": "055bfdc1-fefc-454d-9bde-2452cc107ddd",
   "metadata": {},
   "outputs": [],
   "source": []
  }
 ],
 "metadata": {
  "kernelspec": {
   "display_name": "Python 3 (ipykernel)",
   "language": "python",
   "name": "python3"
  },
  "language_info": {
   "codemirror_mode": {
    "name": "ipython",
    "version": 3
   },
   "file_extension": ".py",
   "mimetype": "text/x-python",
   "name": "python",
   "nbconvert_exporter": "python",
   "pygments_lexer": "ipython3",
   "version": "3.12.4"
  }
 },
 "nbformat": 4,
 "nbformat_minor": 5
}
